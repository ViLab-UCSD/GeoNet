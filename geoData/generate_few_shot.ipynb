{
 "cells": [
  {
   "cell_type": "code",
   "execution_count": 5,
   "metadata": {},
   "outputs": [],
   "source": [
    "\n",
    "\n",
    "import random            \n",
    "from tqdm import tqdm\n",
    "few_shot_threshold_left = 15\n",
    "few_shot_num = 5\n",
    "out_file_few_shot=''\n",
    "out_file_remainder=''\n",
    "\n",
    "\n",
    "\n",
    "def write_list(cur_list):\n",
    "    random.shuffle(cur_list)\n",
    "    few_shots = min(few_shot_num, max(0, len(cur_list)-few_shot_threshold_left))\n",
    "    few_shots_samples = cur_list[:few_shots]\n",
    "    remainder_samples = cur_list[few_shots:]\n",
    "    \n",
    "    with open(out_file_few_shot, 'a') as f:\n",
    "        for line in few_shots_samples:\n",
    "            f.write(f\"{line}\")\n",
    "            \n",
    "    with open(out_file_remainder, 'a') as f:\n",
    "        for line in remainder_samples:\n",
    "            f.write(f\"{line}\")\n",
    "    \n",
    "    return few_shots"
   ]
  },
  {
   "cell_type": "code",
   "execution_count": 6,
   "metadata": {},
   "outputs": [
    {
     "name": "stderr",
     "output_type": "stream",
     "text": [
      "19076it [00:00, 143424.05it/s]\n",
      "36874it [00:00, 167350.63it/s]\n",
      "27768it [00:00, 326926.13it/s]\n",
      "18276it [00:00, 279846.89it/s]\n"
     ]
    }
   ],
   "source": [
    "for in_file in [ 'geoILSVRC/asia_test_before_few_shot.txt',\n",
    "                'geoILSVRC/usa_test_before_few_shot.txt', \n",
    "                'places205/asia_test_before_few_shot.txt', \n",
    "                'places205/us_test_before_few_shot.txt']:\n",
    "    out_file_few_shot = in_file[:-20]+'_few_shot'+in_file[-4:]\n",
    "    out_file_remainder = in_file[:-20]+in_file[-4:]\n",
    "    with open(out_file_few_shot, 'w') as f:\n",
    "        pass\n",
    "    with open(out_file_remainder, 'w') as f:\n",
    "        pass\n",
    "\n",
    "    current_class_list=[]\n",
    "    current_class = 0\n",
    "    num_no_shot = 0\n",
    "    log = []\n",
    "    with open(in_file) as f:\n",
    "        for line in tqdm(f):\n",
    "            class_label = int(line.split(' ')[-1])\n",
    "            if class_label == current_class:\n",
    "                current_class_list.append(line)\n",
    "            else:\n",
    "                sample_num = write_list(current_class_list)\n",
    "                if sample_num < few_shot_num :\n",
    "                    log.append(f'class {current_class} will have {sample_num} few shot samples\\n')\n",
    "                current_class_list=[]\n",
    "                current_class += 1\n",
    "                current_class_list.append(line)\n",
    "                \n",
    "                if sample_num==0:\n",
    "                        num_no_shot += 1\n",
    "\n",
    "            \n",
    "    log_file =   in_file[:-20]+'_log'+in_file[-4:]\n",
    "    with open(log_file, 'w') as f:\n",
    "        for line in log:\n",
    "                f.write(f\"{line}\")\n",
    "        f.write(f\"Among them, {num_no_shot} classes have no shots\")\n",
    "\n"
   ]
  },
  {
   "cell_type": "code",
   "execution_count": 4,
   "metadata": {},
   "outputs": [],
   "source": []
  },
  {
   "cell_type": "code",
   "execution_count": null,
   "metadata": {},
   "outputs": [],
   "source": []
  }
 ],
 "metadata": {
  "kernelspec": {
   "display_name": "Python 3.8.12 ('base')",
   "language": "python",
   "name": "python3"
  },
  "language_info": {
   "codemirror_mode": {
    "name": "ipython",
    "version": 3
   },
   "file_extension": ".py",
   "mimetype": "text/x-python",
   "name": "python",
   "nbconvert_exporter": "python",
   "pygments_lexer": "ipython3",
   "version": "3.8.12"
  },
  "orig_nbformat": 4,
  "vscode": {
   "interpreter": {
    "hash": "d4d1e4263499bec80672ea0156c357c1ee493ec2b1c70f0acce89fc37c4a6abe"
   }
  }
 },
 "nbformat": 4,
 "nbformat_minor": 2
}
